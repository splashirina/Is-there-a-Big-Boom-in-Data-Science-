{
 "cells": [
  {
   "cell_type": "code",
   "execution_count": 97,
   "metadata": {
    "collapsed": false
   },
   "outputs": [
    {
     "name": "stdout",
     "output_type": "stream",
     "text": [
      "Collecting plotly\n",
      "  Downloading plotly-2.0.10.tar.gz (972kB)\n",
      "Requirement already satisfied (use --upgrade to upgrade): decorator>=4.0.6 in c:\\anaconda2\\lib\\site-packages (from plotly)\n",
      "Collecting nbformat>=4.2 (from plotly)\n",
      "  Downloading nbformat-4.3.0-py2.py3-none-any.whl (154kB)\n",
      "Requirement already satisfied (use --upgrade to upgrade): pytz in c:\\anaconda2\\lib\\site-packages (from plotly)\n",
      "Requirement already satisfied (use --upgrade to upgrade): requests in c:\\anaconda2\\lib\\site-packages (from plotly)\n",
      "Requirement already satisfied (use --upgrade to upgrade): six in c:\\anaconda2\\lib\\site-packages (from plotly)\n",
      "Requirement already satisfied (use --upgrade to upgrade): jupyter-core in c:\\anaconda2\\lib\\site-packages (from nbformat>=4.2->plotly)\n",
      "Requirement already satisfied (use --upgrade to upgrade): jsonschema!=2.5.0,>=2.4 in c:\\anaconda2\\lib\\site-packages (from nbformat>=4.2->plotly)\n",
      "Requirement already satisfied (use --upgrade to upgrade): traitlets>=4.1 in c:\\anaconda2\\lib\\site-packages (from nbformat>=4.2->plotly)\n",
      "Requirement already satisfied (use --upgrade to upgrade): ipython-genutils in c:\\anaconda2\\lib\\site-packages (from nbformat>=4.2->plotly)\n",
      "Building wheels for collected packages: plotly\n",
      "  Running setup.py bdist_wheel for plotly: started\n",
      "  Running setup.py bdist_wheel for plotly: finished with status 'done'\n",
      "  Stored in directory: C:\\Users\\rinlin\\AppData\\Local\\pip\\Cache\\wheels\\05\\fc\\df\\cd14e7f2faf8b90c9dbdeb265f0ceb89cbc80e218eae5ffc3e\n",
      "Successfully built plotly\n",
      "Installing collected packages: nbformat, plotly\n",
      "  Found existing installation: nbformat 4.0.1\n"
     ]
    },
    {
     "name": "stderr",
     "output_type": "stream",
     "text": [
      "    DEPRECATION: Uninstalling a distutils installed project (nbformat) has been deprecated and will be removed in a future version. This is due to the fact that uninstalling a distutils project will only partially uninstall the project.\n"
     ]
    },
    {
     "name": "stdout",
     "output_type": "stream",
     "text": [
      "    Uninstalling nbformat-4.0.1:\n",
      "      Successfully uninstalled nbformat-4.0.1\n",
      "Successfully installed nbformat-4.3.0 plotly-2.0.10\n"
     ]
    },
    {
     "name": "stderr",
     "output_type": "stream",
     "text": [
      "You are using pip version 8.0.2, however version 9.0.1 is available.\n",
      "You should consider upgrading via the 'python -m pip install --upgrade pip' command.\n"
     ]
    },
    {
     "data": {
      "text/plain": [
       "0"
      ]
     },
     "execution_count": 97,
     "metadata": {},
     "output_type": "execute_result"
    }
   ],
   "source": [
    "import pip\n",
    "pip.main([\"install\",\"plotly\"])\n",
    "#!pip3 install plotly"
   ]
  },
  {
   "cell_type": "markdown",
   "metadata": {},
   "source": [
    "### Import Libraries"
   ]
  },
  {
   "cell_type": "code",
   "execution_count": 98,
   "metadata": {
    "collapsed": false
   },
   "outputs": [],
   "source": [
    "import os # Operation System\n",
    "import re # Regular Expression\n",
    "import pandas as pd # Pandas\n",
    "import numpy as np\n",
    "import plotly"
   ]
  },
  {
   "cell_type": "markdown",
   "metadata": {},
   "source": [
    "### Gloabal Variable"
   ]
  },
  {
   "cell_type": "code",
   "execution_count": 2,
   "metadata": {
    "collapsed": false
   },
   "outputs": [],
   "source": [
    "url = \"C:/Users/rinlin/Desktop/LaborBureauData\"\n",
    "pattern = re.compile(\"([0-9]+)\")"
   ]
  },
  {
   "cell_type": "markdown",
   "metadata": {},
   "source": [
    "### User Defined Function"
   ]
  },
  {
   "cell_type": "code",
   "execution_count": 68,
   "metadata": {
    "collapsed": true
   },
   "outputs": [],
   "source": [
    " def national_by_year(data,subgroup,numeric=\"tot_emp\"):\n",
    "    data = data[data['group'] == subgroup]\n",
    "    data = data[['st','a_mean','tot_emp','occ_title','year']]\n",
    "    return data.groupby(['year'])[numeric].sum()"
   ]
  },
  {
   "cell_type": "markdown",
   "metadata": {},
   "source": [
    "### Read In Raw Data"
   ]
  },
  {
   "cell_type": "code",
   "execution_count": 3,
   "metadata": {
    "collapsed": false
   },
   "outputs": [],
   "source": [
    "file_collections = []\n",
    "for root, dirs,files in os.walk(url):\n",
    "    if len(dirs) == 0:\n",
    "        data = pd.read_excel(root+\"/\"+files[1])\n",
    "        data.columns = [col.lower() for col in data]\n",
    "        data.rename(columns={\"occ_titl\":\"occ_title\"},inplace=True)\n",
    "        try:\n",
    "            data.rename(columns={\"occ_group\":\"group\"},inplace=True)\n",
    "        except:\n",
    "            pass\n",
    "        data = data[['st','state','a_mean','tot_emp','a_median','occ_title','group']]\n",
    "        data['year'] = pattern.findall(files[1])[0]\n",
    "        file_collections.append(data)"
   ]
  },
  {
   "cell_type": "code",
   "execution_count": 43,
   "metadata": {
    "collapsed": false
   },
   "outputs": [],
   "source": [
    "all_data = pd.concat(file_collections,ignore_index=False)"
   ]
  },
  {
   "cell_type": "markdown",
   "metadata": {},
   "source": [
    "### Account For NA"
   ]
  },
  {
   "cell_type": "code",
   "execution_count": 44,
   "metadata": {
    "collapsed": false
   },
   "outputs": [],
   "source": [
    "all_data[all_data['tot_emp'] == \"**\"] = np.nan\n",
    "all_data[all_data['a_mean'] == \"*\"] = np.nan\n",
    "all_data['a_mean'] = all_data['tot_emp'].apply(float)\n",
    "all_data['tot_emp'] = all_data['tot_emp'].apply(float)"
   ]
  },
  {
   "cell_type": "code",
   "execution_count": 47,
   "metadata": {
    "collapsed": true
   },
   "outputs": [],
   "source": [
    "all_data.ix[all_data['group']==\"maj\",'group'] = \"major\""
   ]
  },
  {
   "cell_type": "code",
   "execution_count": 48,
   "metadata": {
    "collapsed": false
   },
   "outputs": [
    {
     "name": "stdout",
     "output_type": "stream",
     "text": [
      "           len                     \n",
      "group detailed    div   major total\n",
      "year                               \n",
      "1997       NaN  378.0     NaN   NaN\n",
      "1998       NaN  378.0   701.0   NaN\n",
      "1999       NaN    NaN  1176.0   NaN\n",
      "2000       NaN    NaN  1186.0   NaN\n",
      "2001       NaN    NaN  1186.0   NaN\n",
      "2002       NaN    NaN  1236.0   NaN\n",
      "2003       NaN    NaN  1176.0   NaN\n",
      "2004       NaN    NaN  1181.0   NaN\n",
      "2005       NaN    NaN  1156.0   NaN\n",
      "2006       NaN    NaN  1179.0   NaN\n",
      "2007       NaN    NaN  1181.0   NaN\n",
      "2008       NaN    NaN  1169.0   NaN\n",
      "2009       NaN    NaN  1182.0  54.0\n",
      "2010       NaN    NaN  1180.0  54.0\n",
      "2011       NaN    NaN  1184.0  54.0\n",
      "2012   34796.0    NaN  1177.0  54.0\n",
      "2013   34747.0    NaN  1185.0  54.0\n",
      "2014   34656.0    NaN  1187.0  54.0\n",
      "2015   34583.0    NaN  1187.0  54.0\n",
      "2016   34413.0    NaN  1188.0  54.0\n"
     ]
    }
   ],
   "source": [
    "print(all_data.pivot_table(index=\"year\",columns=\"group\",values=\"tot_emp\",aggfunc=[len]))"
   ]
  },
  {
   "cell_type": "code",
   "execution_count": 58,
   "metadata": {
    "collapsed": false
   },
   "outputs": [
    {
     "name": "stdout",
     "output_type": "stream",
     "text": [
      "year\n",
      "2009    131713800.0\n",
      "2010    128150010.0\n",
      "2011    129312400.0\n",
      "2012    131331400.0\n",
      "2013    133614660.0\n",
      "2014    136129200.0\n",
      "2015    138885360.0\n",
      "2016    141382280.0\n",
      "Name: tot_emp, dtype: float64\n"
     ]
    }
   ],
   "source": [
    "## Total Data\n",
    "national_by_year(all_data,subgroup=\"total\")"
   ]
  },
  {
   "cell_type": "code",
   "execution_count": 59,
   "metadata": {
    "collapsed": false
   },
   "outputs": [
    {
     "name": "stdout",
     "output_type": "stream",
     "text": [
      "year\n",
      "1998     86043030.0\n",
      "1999    128234630.0\n",
      "2000    130849730.0\n",
      "2001    129059050.0\n",
      "2002    257152540.0\n",
      "2003    128498410.0\n",
      "2004    129170580.0\n",
      "2005    126764390.0\n",
      "2006    133687900.0\n",
      "2007    135406330.0\n",
      "2008    135718090.0\n",
      "2009    131684980.0\n",
      "2010    127893340.0\n",
      "2011    129301640.0\n",
      "2012    131215960.0\n",
      "2013    133613840.0\n",
      "2014    136128990.0\n",
      "2015    138885020.0\n",
      "2016    141382120.0\n",
      "Name: tot_emp, dtype: float64\n"
     ]
    }
   ],
   "source": [
    "## Total Data\n",
    "national_by_year(all_data,subgroup=\"major\")"
   ]
  },
  {
   "cell_type": "code",
   "execution_count": 60,
   "metadata": {
    "collapsed": false
   },
   "outputs": [
    {
     "name": "stdout",
     "output_type": "stream",
     "text": [
      "year\n",
      "1997   NaN\n",
      "1998   NaN\n",
      "Name: tot_emp, dtype: float64\n"
     ]
    }
   ],
   "source": [
    "## div Data\n",
    "national_by_year(all_data,subgroup=\"div\")"
   ]
  },
  {
   "cell_type": "code",
   "execution_count": 61,
   "metadata": {
    "collapsed": false
   },
   "outputs": [
    {
     "name": "stdout",
     "output_type": "stream",
     "text": [
      "year\n",
      "2012    130263850.0\n",
      "2013    132345780.0\n",
      "2014    134336710.0\n",
      "2015    137647860.0\n",
      "2016    139944710.0\n",
      "Name: tot_emp, dtype: float64\n"
     ]
    }
   ],
   "source": [
    "## detailed Data\n",
    "national_by_year(all_data,subgroup=\"detailed\")"
   ]
  },
  {
   "cell_type": "code",
   "execution_count": 114,
   "metadata": {
    "collapsed": false
   },
   "outputs": [],
   "source": [
    "# it looks like major_data incorporate most of the data with relative accuracy with the exception for year 2002. Therefore we \n",
    "# decide to use major_data as our data input, but leaving out year of 2002.\n",
    "data_valid = all_data[(all_data['group']==\"major\")&(all_data['year'] !=\"1998\")&(all_data['year'] !=\"2002\")]"
   ]
  },
  {
   "cell_type": "code",
   "execution_count": 93,
   "metadata": {
    "collapsed": false
   },
   "outputs": [
    {
     "data": {
      "text/plain": [
       "0"
      ]
     },
     "execution_count": 93,
     "metadata": {},
     "output_type": "execute_result"
    }
   ],
   "source": [
    "sum(np.isnan(data_valid['tot_emp']))"
   ]
  },
  {
   "cell_type": "code",
   "execution_count": 94,
   "metadata": {
    "collapsed": false
   },
   "outputs": [
    {
     "data": {
      "text/plain": [
       "0"
      ]
     },
     "execution_count": 94,
     "metadata": {},
     "output_type": "execute_result"
    }
   ],
   "source": [
    "sum(np.isnan(data_valid['a_mean']))"
   ]
  },
  {
   "cell_type": "markdown",
   "metadata": {},
   "source": [
    "No NA Value is detected."
   ]
  },
  {
   "cell_type": "markdown",
   "metadata": {},
   "source": [
    "### Simple Data Visualization: Year Over Year Trend"
   ]
  },
  {
   "cell_type": "code",
   "execution_count": 115,
   "metadata": {
    "collapsed": false
   },
   "outputs": [],
   "source": [
    "data_for_visual=data_valid.groupby(['year'])['tot_emp'].sum().reset_index()"
   ]
  },
  {
   "cell_type": "code",
   "execution_count": 116,
   "metadata": {
    "collapsed": false
   },
   "outputs": [
    {
     "name": "stdout",
     "output_type": "stream",
     "text": [
      "High five! You successfuly sent some data to your account on plotly. View your plot in your browser at https://plot.ly/~splashirina/0 or inside your plot.ly account where it is named 'basic-line'\n"
     ]
    },
    {
     "data": {
      "text/html": [
       "<iframe id=\"igraph\" scrolling=\"no\" style=\"border:none;\" seamless=\"seamless\" src=\"https://plot.ly/~splashirina/0.embed\" height=\"525px\" width=\"100%\"></iframe>"
      ],
      "text/plain": [
       "<plotly.tools.PlotlyDisplay object>"
      ]
     },
     "execution_count": 116,
     "metadata": {},
     "output_type": "execute_result"
    }
   ],
   "source": [
    "from plotly.offline import *\n",
    "import plotly.plotly as py\n",
    "import plotly.graph_objs as go\n",
    "#from plotly.graph_objs import Scatter, Figure, Layout\n",
    "\n",
    "plotly.tools.set_credentials_file(username='splashirina', api_key='ErzGtB6zqhc7e8Di37kB')\n",
    "\n",
    "# Create a trace\n",
    "trace = go.Scatter(\n",
    "    x = data_for_visual['year'],\n",
    "    y = data_for_visual['tot_emp']\n",
    ")\n",
    "\n",
    "data = [trace]\n",
    "\n",
    "py.iplot(data, filename='basic-line')"
   ]
  },
  {
   "cell_type": "code",
   "execution_count": 117,
   "metadata": {
    "collapsed": true
   },
   "outputs": [],
   "source": [
    "data_for_visual.to_csv(\"OES1999_2016.csv\",index=False)"
   ]
  },
  {
   "cell_type": "code",
   "execution_count": null,
   "metadata": {
    "collapsed": true
   },
   "outputs": [],
   "source": []
  }
 ],
 "metadata": {
  "kernelspec": {
   "display_name": "Python 2",
   "language": "python",
   "name": "python2"
  },
  "language_info": {
   "codemirror_mode": {
    "name": "ipython",
    "version": 2
   },
   "file_extension": ".py",
   "mimetype": "text/x-python",
   "name": "python",
   "nbconvert_exporter": "python",
   "pygments_lexer": "ipython2",
   "version": "2.7.11"
  }
 },
 "nbformat": 4,
 "nbformat_minor": 0
}
