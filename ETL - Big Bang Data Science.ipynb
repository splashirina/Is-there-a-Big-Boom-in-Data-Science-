{
 "cells": [
  {
   "cell_type": "markdown",
   "metadata": {},
   "source": [
    "### Import Libraries"
   ]
  },
  {
   "cell_type": "code",
   "execution_count": 2,
   "metadata": {
    "collapsed": true
   },
   "outputs": [],
   "source": [
    "import os # Operation System\n",
    "import re # Regular Expression\n",
    "import pandas as pd # Pandas"
   ]
  },
  {
   "cell_type": "code",
   "execution_count": 3,
   "metadata": {
    "collapsed": false
   },
   "outputs": [],
   "source": [
    "url = \"C:/Users/rinlin/Desktop/LaborBureauData\"\n",
    "pattern = re.compile(\"([0-9]+)\")"
   ]
  },
  {
   "cell_type": "markdown",
   "metadata": {},
   "source": [
    "### Read In Raw Data"
   ]
  },
  {
   "cell_type": "code",
   "execution_count": 15,
   "metadata": {
    "collapsed": false
   },
   "outputs": [],
   "source": [
    "file_collections = []\n",
    "for root, dirs,files in os.walk(url):\n",
    "    if len(dirs) == 0:\n",
    "        data = pd.read_excel(root+\"/\"+files[1])\n",
    "        data.columns = [col.lower() for col in data]\n",
    "        data.rename(columns={\"occ_titl\":\"occ_title\"},inplace=True)\n",
    "        try:\n",
    "            data.rename(columns={\"occ_group\":\"group\"},inplace=True)\n",
    "        except:\n",
    "            pass\n",
    "        data = data[['st','state','a_mean','tot_emp','a_median','occ_title','group']]\n",
    "        data['year'] = pattern.findall(files[1])[0]\n",
    "        file_collections.append(data)"
   ]
  },
  {
   "cell_type": "code",
   "execution_count": 16,
   "metadata": {
    "collapsed": false
   },
   "outputs": [],
   "source": [
    "all_data = pd.concat(file_collections,ignore_index=False)"
   ]
  },
  {
   "cell_type": "code",
   "execution_count": 23,
   "metadata": {
    "collapsed": false
   },
   "outputs": [],
   "source": [
    "all_data['group'].fillna(\"Keep\",inplace=True)\n",
    "all_data = all_data[all_data['group'] == \"Keep\"]\n",
    "all_data = all_data[['st','a_mean','tot_emp','occ_title','year']]"
   ]
  },
  {
   "cell_type": "code",
   "execution_count": 24,
   "metadata": {
    "collapsed": false
   },
   "outputs": [
    {
     "data": {
      "text/html": [
       "<div>\n",
       "<table border=\"1\" class=\"dataframe\">\n",
       "  <thead>\n",
       "    <tr style=\"text-align: right;\">\n",
       "      <th></th>\n",
       "      <th>st</th>\n",
       "      <th>a_mean</th>\n",
       "      <th>tot_emp</th>\n",
       "      <th>occ_title</th>\n",
       "      <th>year</th>\n",
       "    </tr>\n",
       "  </thead>\n",
       "  <tbody>\n",
       "    <tr>\n",
       "      <th>1</th>\n",
       "      <td>AL</td>\n",
       "      <td>100380</td>\n",
       "      <td>6090</td>\n",
       "      <td>Chief Executives</td>\n",
       "      <td>2000</td>\n",
       "    </tr>\n",
       "    <tr>\n",
       "      <th>2</th>\n",
       "      <td>AL</td>\n",
       "      <td>58840</td>\n",
       "      <td>38020</td>\n",
       "      <td>General and Operations Managers</td>\n",
       "      <td>2000</td>\n",
       "    </tr>\n",
       "    <tr>\n",
       "      <th>3</th>\n",
       "      <td>AL</td>\n",
       "      <td>17640</td>\n",
       "      <td>1220</td>\n",
       "      <td>Legislators</td>\n",
       "      <td>2000</td>\n",
       "    </tr>\n",
       "    <tr>\n",
       "      <th>4</th>\n",
       "      <td>AL</td>\n",
       "      <td>43050</td>\n",
       "      <td>800</td>\n",
       "      <td>Advertising and Promotions Managers</td>\n",
       "      <td>2000</td>\n",
       "    </tr>\n",
       "    <tr>\n",
       "      <th>5</th>\n",
       "      <td>AL</td>\n",
       "      <td>63570</td>\n",
       "      <td>1860</td>\n",
       "      <td>Marketing Managers</td>\n",
       "      <td>2000</td>\n",
       "    </tr>\n",
       "  </tbody>\n",
       "</table>\n",
       "</div>"
      ],
      "text/plain": [
       "   st     a_mean       tot_emp                            occ_title  year\n",
       "1  AL     100380          6090                     Chief Executives  2000\n",
       "2  AL      58840         38020      General and Operations Managers  2000\n",
       "3  AL      17640          1220                          Legislators  2000\n",
       "4  AL      43050           800  Advertising and Promotions Managers  2000\n",
       "5  AL      63570          1860                   Marketing Managers  2000"
      ]
     },
     "execution_count": 24,
     "metadata": {},
     "output_type": "execute_result"
    }
   ],
   "source": [
    "all_data[0:5]"
   ]
  },
  {
   "cell_type": "code",
   "execution_count": 25,
   "metadata": {
    "collapsed": true
   },
   "outputs": [],
   "source": [
    "all_data.to_csv(\"OES1998_2016.csv\",index=False)"
   ]
  }
 ],
 "metadata": {
  "kernelspec": {
   "display_name": "Python 2",
   "language": "python",
   "name": "python2"
  },
  "language_info": {
   "codemirror_mode": {
    "name": "ipython",
    "version": 2
   },
   "file_extension": ".py",
   "mimetype": "text/x-python",
   "name": "python",
   "nbconvert_exporter": "python",
   "pygments_lexer": "ipython2",
   "version": "2.7.11"
  }
 },
 "nbformat": 4,
 "nbformat_minor": 0
}
