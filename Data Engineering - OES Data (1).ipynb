{
 "cells": [
  {
   "cell_type": "markdown",
   "metadata": {},
   "source": [
    "# Data Engineering"
   ]
  },
  {
   "cell_type": "markdown",
   "metadata": {},
   "source": [
    "## Import Library"
   ]
  },
  {
   "cell_type": "code",
   "execution_count": 1,
   "metadata": {
    "collapsed": true
   },
   "outputs": [],
   "source": [
    "import pandas as pd\n",
    "import numpy as np"
   ]
  },
  {
   "cell_type": "markdown",
   "metadata": {},
   "source": [
    "## Read In Raw Data"
   ]
  },
  {
   "cell_type": "code",
   "execution_count": 2,
   "metadata": {
    "collapsed": false
   },
   "outputs": [],
   "source": [
    "OES = pd.read_csv(\"~/Desktop/WhatDataScience/OES1999_2016.csv\")\n",
    "inflation_usa = pd.read_csv(\"~/Desktop/WhatDataScience/inflation_usa.csv\")"
   ]
  },
  {
   "cell_type": "code",
   "execution_count": 3,
   "metadata": {
    "collapsed": true
   },
   "outputs": [],
   "source": [
    "OES = OES[OES['year']>2002]"
   ]
  },
  {
   "cell_type": "code",
   "execution_count": 4,
   "metadata": {
    "collapsed": false
   },
   "outputs": [],
   "source": [
    "OES['a_mean'] = OES['a_mean'].apply(int)\n",
    "OES['tot_emp'] = OES['tot_emp'].apply(int)\n",
    "OES['sum_mean'] = OES['a_mean']*OES['tot_emp']"
   ]
  },
  {
   "cell_type": "markdown",
   "metadata": {},
   "source": [
    "## Overall Trend"
   ]
  },
  {
   "cell_type": "code",
   "execution_count": 5,
   "metadata": {
    "collapsed": false
   },
   "outputs": [
    {
     "data": {
      "text/html": [
       "<div>\n",
       "<table border=\"1\" class=\"dataframe\">\n",
       "  <thead>\n",
       "    <tr style=\"text-align: right;\">\n",
       "      <th></th>\n",
       "      <th>st</th>\n",
       "      <th>state</th>\n",
       "      <th>a_mean</th>\n",
       "      <th>tot_emp</th>\n",
       "      <th>a_median</th>\n",
       "      <th>occ_title</th>\n",
       "      <th>group</th>\n",
       "      <th>year</th>\n",
       "      <th>sum_mean</th>\n",
       "    </tr>\n",
       "  </thead>\n",
       "  <tbody>\n",
       "    <tr>\n",
       "      <th>0</th>\n",
       "      <td>AL</td>\n",
       "      <td>Alabama</td>\n",
       "      <td>71920</td>\n",
       "      <td>91920</td>\n",
       "      <td>62960</td>\n",
       "      <td>Management occupations</td>\n",
       "      <td>major</td>\n",
       "      <td>2003</td>\n",
       "      <td>6610886400</td>\n",
       "    </tr>\n",
       "    <tr>\n",
       "      <th>1</th>\n",
       "      <td>AL</td>\n",
       "      <td>Alabama</td>\n",
       "      <td>50310</td>\n",
       "      <td>54010</td>\n",
       "      <td>45670</td>\n",
       "      <td>Business and financial operations occupations</td>\n",
       "      <td>major</td>\n",
       "      <td>2003</td>\n",
       "      <td>2717243100</td>\n",
       "    </tr>\n",
       "    <tr>\n",
       "      <th>2</th>\n",
       "      <td>AL</td>\n",
       "      <td>Alabama</td>\n",
       "      <td>59440</td>\n",
       "      <td>29600</td>\n",
       "      <td>56170</td>\n",
       "      <td>Computer and mathematical occupations</td>\n",
       "      <td>major</td>\n",
       "      <td>2003</td>\n",
       "      <td>1759424000</td>\n",
       "    </tr>\n",
       "    <tr>\n",
       "      <th>3</th>\n",
       "      <td>AL</td>\n",
       "      <td>Alabama</td>\n",
       "      <td>57670</td>\n",
       "      <td>35490</td>\n",
       "      <td>55060</td>\n",
       "      <td>Architecture and engineering occupations</td>\n",
       "      <td>major</td>\n",
       "      <td>2003</td>\n",
       "      <td>2046708300</td>\n",
       "    </tr>\n",
       "    <tr>\n",
       "      <th>4</th>\n",
       "      <td>AL</td>\n",
       "      <td>Alabama</td>\n",
       "      <td>46870</td>\n",
       "      <td>10800</td>\n",
       "      <td>41630</td>\n",
       "      <td>Life, physical, and social science occupations</td>\n",
       "      <td>major</td>\n",
       "      <td>2003</td>\n",
       "      <td>506196000</td>\n",
       "    </tr>\n",
       "  </tbody>\n",
       "</table>\n",
       "</div>"
      ],
      "text/plain": [
       "   st    state  a_mean  tot_emp  a_median  \\\n",
       "0  AL  Alabama   71920    91920     62960   \n",
       "1  AL  Alabama   50310    54010     45670   \n",
       "2  AL  Alabama   59440    29600     56170   \n",
       "3  AL  Alabama   57670    35490     55060   \n",
       "4  AL  Alabama   46870    10800     41630   \n",
       "\n",
       "                                        occ_title  group  year    sum_mean  \n",
       "0                          Management occupations  major  2003  6610886400  \n",
       "1   Business and financial operations occupations  major  2003  2717243100  \n",
       "2           Computer and mathematical occupations  major  2003  1759424000  \n",
       "3        Architecture and engineering occupations  major  2003  2046708300  \n",
       "4  Life, physical, and social science occupations  major  2003   506196000  "
      ]
     },
     "execution_count": 5,
     "metadata": {},
     "output_type": "execute_result"
    }
   ],
   "source": [
    "OES[0:5]"
   ]
  },
  {
   "cell_type": "code",
   "execution_count": 6,
   "metadata": {
    "collapsed": false
   },
   "outputs": [],
   "source": [
    "OES_overall_by_state = OES.groupby(['st','year'])['sum_mean','tot_emp'].sum().reset_index()\n",
    "OES_overall_by_state['a_mean'] = np.round(OES_overall_by_state['sum_mean']/OES_overall_by_state['tot_emp'],0)\n",
    "OES_overall = OES.groupby(['year'])['sum_mean','tot_emp'].sum().reset_index()\n",
    "OES_overall['a_mean'] = np.round(OES_overall['sum_mean']/OES_overall['tot_emp'],0)"
   ]
  },
  {
   "cell_type": "code",
   "execution_count": 7,
   "metadata": {
    "collapsed": false
   },
   "outputs": [
    {
     "data": {
      "text/html": [
       "<div>\n",
       "<table border=\"1\" class=\"dataframe\">\n",
       "  <thead>\n",
       "    <tr style=\"text-align: right;\">\n",
       "      <th></th>\n",
       "      <th>year</th>\n",
       "      <th>sum_mean</th>\n",
       "      <th>tot_emp</th>\n",
       "      <th>a_mean</th>\n",
       "    </tr>\n",
       "  </thead>\n",
       "  <tbody>\n",
       "    <tr>\n",
       "      <th>0</th>\n",
       "      <td>2003</td>\n",
       "      <td>4633416585300</td>\n",
       "      <td>128498410</td>\n",
       "      <td>36058.0</td>\n",
       "    </tr>\n",
       "    <tr>\n",
       "      <th>1</th>\n",
       "      <td>2004</td>\n",
       "      <td>4763276593600</td>\n",
       "      <td>129170580</td>\n",
       "      <td>36876.0</td>\n",
       "    </tr>\n",
       "    <tr>\n",
       "      <th>2</th>\n",
       "      <td>2005</td>\n",
       "      <td>4787433271400</td>\n",
       "      <td>126764390</td>\n",
       "      <td>37766.0</td>\n",
       "    </tr>\n",
       "    <tr>\n",
       "      <th>3</th>\n",
       "      <td>2006</td>\n",
       "      <td>5221810918300</td>\n",
       "      <td>133687900</td>\n",
       "      <td>39060.0</td>\n",
       "    </tr>\n",
       "    <tr>\n",
       "      <th>4</th>\n",
       "      <td>2007</td>\n",
       "      <td>5496191147500</td>\n",
       "      <td>135406330</td>\n",
       "      <td>40590.0</td>\n",
       "    </tr>\n",
       "    <tr>\n",
       "      <th>5</th>\n",
       "      <td>2008</td>\n",
       "      <td>5694387573900</td>\n",
       "      <td>135718090</td>\n",
       "      <td>41957.0</td>\n",
       "    </tr>\n",
       "    <tr>\n",
       "      <th>6</th>\n",
       "      <td>2009</td>\n",
       "      <td>5710024087800</td>\n",
       "      <td>131684980</td>\n",
       "      <td>43361.0</td>\n",
       "    </tr>\n",
       "    <tr>\n",
       "      <th>7</th>\n",
       "      <td>2010</td>\n",
       "      <td>5664495433800</td>\n",
       "      <td>127893340</td>\n",
       "      <td>44291.0</td>\n",
       "    </tr>\n",
       "    <tr>\n",
       "      <th>8</th>\n",
       "      <td>2011</td>\n",
       "      <td>5829242391400</td>\n",
       "      <td>129301640</td>\n",
       "      <td>45083.0</td>\n",
       "    </tr>\n",
       "    <tr>\n",
       "      <th>9</th>\n",
       "      <td>2012</td>\n",
       "      <td>5989334589200</td>\n",
       "      <td>131215960</td>\n",
       "      <td>45645.0</td>\n",
       "    </tr>\n",
       "    <tr>\n",
       "      <th>10</th>\n",
       "      <td>2013</td>\n",
       "      <td>6184179199100</td>\n",
       "      <td>133613840</td>\n",
       "      <td>46284.0</td>\n",
       "    </tr>\n",
       "    <tr>\n",
       "      <th>11</th>\n",
       "      <td>2014</td>\n",
       "      <td>6409847423300</td>\n",
       "      <td>136128990</td>\n",
       "      <td>47087.0</td>\n",
       "    </tr>\n",
       "    <tr>\n",
       "      <th>12</th>\n",
       "      <td>2015</td>\n",
       "      <td>6690890635000</td>\n",
       "      <td>138885020</td>\n",
       "      <td>48176.0</td>\n",
       "    </tr>\n",
       "    <tr>\n",
       "      <th>13</th>\n",
       "      <td>2016</td>\n",
       "      <td>6995219294500</td>\n",
       "      <td>141382120</td>\n",
       "      <td>49477.0</td>\n",
       "    </tr>\n",
       "  </tbody>\n",
       "</table>\n",
       "</div>"
      ],
      "text/plain": [
       "    year       sum_mean    tot_emp   a_mean\n",
       "0   2003  4633416585300  128498410  36058.0\n",
       "1   2004  4763276593600  129170580  36876.0\n",
       "2   2005  4787433271400  126764390  37766.0\n",
       "3   2006  5221810918300  133687900  39060.0\n",
       "4   2007  5496191147500  135406330  40590.0\n",
       "5   2008  5694387573900  135718090  41957.0\n",
       "6   2009  5710024087800  131684980  43361.0\n",
       "7   2010  5664495433800  127893340  44291.0\n",
       "8   2011  5829242391400  129301640  45083.0\n",
       "9   2012  5989334589200  131215960  45645.0\n",
       "10  2013  6184179199100  133613840  46284.0\n",
       "11  2014  6409847423300  136128990  47087.0\n",
       "12  2015  6690890635000  138885020  48176.0\n",
       "13  2016  6995219294500  141382120  49477.0"
      ]
     },
     "execution_count": 7,
     "metadata": {},
     "output_type": "execute_result"
    }
   ],
   "source": [
    "OES_overall"
   ]
  },
  {
   "cell_type": "markdown",
   "metadata": {},
   "source": [
    "## Filter by Occupation Type - Data Science Related"
   ]
  },
  {
   "cell_type": "code",
   "execution_count": 8,
   "metadata": {
    "collapsed": false
   },
   "outputs": [],
   "source": [
    "OES['occ_title'] = OES['occ_title'].apply(lambda x:x.lower())"
   ]
  },
  {
   "cell_type": "code",
   "execution_count": 9,
   "metadata": {
    "collapsed": false
   },
   "outputs": [],
   "source": [
    "occ_title = list(OES['occ_title'].unique())"
   ]
  },
  {
   "cell_type": "code",
   "execution_count": 10,
   "metadata": {
    "collapsed": false
   },
   "outputs": [
    {
     "data": {
      "text/plain": [
       "['management occupations',\n",
       " 'business and financial operations occupations',\n",
       " 'computer and mathematical occupations',\n",
       " 'architecture and engineering occupations',\n",
       " 'life, physical, and social science occupations',\n",
       " 'community and social services occupations',\n",
       " 'legal occupations',\n",
       " 'education, training, and library occupations',\n",
       " 'arts, design, entertainment, sports, and media occupations',\n",
       " 'healthcare practitioners and technical occupations',\n",
       " 'healthcare support occupations',\n",
       " 'protective service occupations',\n",
       " 'food preparation and serving related occupations',\n",
       " 'building and grounds cleaning and maintenance occupations',\n",
       " 'personal care and service occupations',\n",
       " 'sales and related occupations',\n",
       " 'office and administrative support occupations',\n",
       " 'farming, fishing, and forestry occupations',\n",
       " 'construction and extraction occupations',\n",
       " 'installation, maintenance, and repair occupations',\n",
       " 'production occupations',\n",
       " 'transportation and material moving occupations',\n",
       " 'computer and mathematical science occupations',\n",
       " 'healthcare practitioner and technical occupations',\n",
       " 'community and social service occupations']"
      ]
     },
     "execution_count": 10,
     "metadata": {},
     "output_type": "execute_result"
    }
   ],
   "source": [
    "occ_title"
   ]
  },
  {
   "cell_type": "code",
   "execution_count": 11,
   "metadata": {
    "collapsed": false
   },
   "outputs": [],
   "source": [
    "occ_cm = ['computer and mathematical science occupations','computer and mathematical occupations']"
   ]
  },
  {
   "cell_type": "code",
   "execution_count": 12,
   "metadata": {
    "collapsed": false
   },
   "outputs": [],
   "source": [
    "OES['filter'] = OES['occ_title'].apply(lambda x: True if x in occ_cm else False)"
   ]
  },
  {
   "cell_type": "code",
   "execution_count": 13,
   "metadata": {
    "collapsed": true
   },
   "outputs": [],
   "source": [
    "OESDataScience = OES[OES['filter']]"
   ]
  },
  {
   "cell_type": "code",
   "execution_count": 14,
   "metadata": {
    "collapsed": false
   },
   "outputs": [
    {
     "name": "stderr",
     "output_type": "stream",
     "text": [
      "/Users/rinalin/Library/Enthought/Canopy_64bit/User/lib/python2.7/site-packages/ipykernel/__main__.py:1: SettingWithCopyWarning: \n",
      "A value is trying to be set on a copy of a slice from a DataFrame\n",
      "\n",
      "See the caveats in the documentation: http://pandas.pydata.org/pandas-docs/stable/indexing.html#indexing-view-versus-copy\n",
      "  if __name__ == '__main__':\n"
     ]
    }
   ],
   "source": [
    "OESDataScience.drop(['filter','occ_title'],axis=1,inplace=True)"
   ]
  },
  {
   "cell_type": "markdown",
   "metadata": {},
   "source": [
    "## Data Science Trend"
   ]
  },
  {
   "cell_type": "code",
   "execution_count": 15,
   "metadata": {
    "collapsed": false
   },
   "outputs": [],
   "source": [
    "OESDS_agg = OESDataScience[['st','tot_emp','year','sum_mean']].groupby(['st','year']).sum().reset_index()"
   ]
  },
  {
   "cell_type": "code",
   "execution_count": 17,
   "metadata": {
    "collapsed": false
   },
   "outputs": [],
   "source": [
    "OESDS_agg['a_mean'] = OESDS_agg.apply(lambda x:int(x['sum_mean']/x['tot_emp']),axis=1)"
   ]
  },
  {
   "cell_type": "code",
   "execution_count": 18,
   "metadata": {
    "collapsed": false
   },
   "outputs": [
    {
     "data": {
      "text/html": [
       "<div>\n",
       "<table border=\"1\" class=\"dataframe\">\n",
       "  <thead>\n",
       "    <tr style=\"text-align: right;\">\n",
       "      <th></th>\n",
       "      <th>st</th>\n",
       "      <th>year</th>\n",
       "      <th>tot_emp</th>\n",
       "      <th>sum_mean</th>\n",
       "      <th>a_mean</th>\n",
       "    </tr>\n",
       "  </thead>\n",
       "  <tbody>\n",
       "    <tr>\n",
       "      <th>0</th>\n",
       "      <td>AK</td>\n",
       "      <td>2003</td>\n",
       "      <td>3270</td>\n",
       "      <td>183774000</td>\n",
       "      <td>56200</td>\n",
       "    </tr>\n",
       "    <tr>\n",
       "      <th>1</th>\n",
       "      <td>AK</td>\n",
       "      <td>2004</td>\n",
       "      <td>3500</td>\n",
       "      <td>203490000</td>\n",
       "      <td>58140</td>\n",
       "    </tr>\n",
       "    <tr>\n",
       "      <th>2</th>\n",
       "      <td>AK</td>\n",
       "      <td>2005</td>\n",
       "      <td>3950</td>\n",
       "      <td>235973000</td>\n",
       "      <td>59740</td>\n",
       "    </tr>\n",
       "    <tr>\n",
       "      <th>3</th>\n",
       "      <td>AK</td>\n",
       "      <td>2006</td>\n",
       "      <td>3930</td>\n",
       "      <td>243581400</td>\n",
       "      <td>61980</td>\n",
       "    </tr>\n",
       "    <tr>\n",
       "      <th>4</th>\n",
       "      <td>AK</td>\n",
       "      <td>2007</td>\n",
       "      <td>3850</td>\n",
       "      <td>247516500</td>\n",
       "      <td>64290</td>\n",
       "    </tr>\n",
       "  </tbody>\n",
       "</table>\n",
       "</div>"
      ],
      "text/plain": [
       "   st  year  tot_emp   sum_mean  a_mean\n",
       "0  AK  2003     3270  183774000   56200\n",
       "1  AK  2004     3500  203490000   58140\n",
       "2  AK  2005     3950  235973000   59740\n",
       "3  AK  2006     3930  243581400   61980\n",
       "4  AK  2007     3850  247516500   64290"
      ]
     },
     "execution_count": 18,
     "metadata": {},
     "output_type": "execute_result"
    }
   ],
   "source": [
    "OESDS_agg[0:5]"
   ]
  },
  {
   "cell_type": "code",
   "execution_count": null,
   "metadata": {
    "collapsed": false
   },
   "outputs": [],
   "source": [
    "inflation_usa"
   ]
  },
  {
   "cell_type": "markdown",
   "metadata": {},
   "source": [
    "## Merge with Inflation Data"
   ]
  },
  {
   "cell_type": "markdown",
   "metadata": {},
   "source": [
    "### 1). With Overall Data"
   ]
  },
  {
   "cell_type": "code",
   "execution_count": 19,
   "metadata": {
    "collapsed": false
   },
   "outputs": [],
   "source": [
    "OES_overall_by_state = OES_overall_by_state.merge(inflation_usa,how='left',right_on='year',left_on='year')\n",
    "OES_overall_by_state['a_mean_inflation_adjusted'] = OES_overall_by_state.apply(lambda x: int(x['a_mean']*x['Inflation Rate']),axis=1)\n",
    "OES_overall = OES_overall.merge(inflation_usa,how='left',right_on='year',left_on='year')\n",
    "OES_overall['a_mean_inflation_adjusted'] = OES_overall.apply(lambda x: int(x['a_mean']*x['Inflation Rate']),axis=1)"
   ]
  },
  {
   "cell_type": "markdown",
   "metadata": {},
   "source": [
    "### 2). With Data Science Data"
   ]
  },
  {
   "cell_type": "code",
   "execution_count": 20,
   "metadata": {
    "collapsed": false
   },
   "outputs": [],
   "source": [
    "OESDS_complete = OESDS_agg.merge(inflation_usa,how='left',right_on='year',left_on='year')\n",
    "OESDS_complete['a_mean_inflation_adjusted'] = OESDS_complete.apply(lambda x: int(x['a_mean']*x['Inflation Rate']),axis=1)"
   ]
  },
  {
   "cell_type": "code",
   "execution_count": 21,
   "metadata": {
    "collapsed": false
   },
   "outputs": [
    {
     "data": {
      "text/html": [
       "<div>\n",
       "<table border=\"1\" class=\"dataframe\">\n",
       "  <thead>\n",
       "    <tr style=\"text-align: right;\">\n",
       "      <th></th>\n",
       "      <th>year</th>\n",
       "      <th>sum_mean</th>\n",
       "      <th>tot_emp</th>\n",
       "      <th>a_mean</th>\n",
       "      <th>Inflation Rate</th>\n",
       "      <th>a_mean_inflation_adjusted</th>\n",
       "    </tr>\n",
       "  </thead>\n",
       "  <tbody>\n",
       "    <tr>\n",
       "      <th>0</th>\n",
       "      <td>2003</td>\n",
       "      <td>4633416585300</td>\n",
       "      <td>128498410</td>\n",
       "      <td>36058.0</td>\n",
       "      <td>1.303792</td>\n",
       "      <td>47012</td>\n",
       "    </tr>\n",
       "    <tr>\n",
       "      <th>1</th>\n",
       "      <td>2004</td>\n",
       "      <td>4763276593600</td>\n",
       "      <td>129170580</td>\n",
       "      <td>36876.0</td>\n",
       "      <td>1.293965</td>\n",
       "      <td>47716</td>\n",
       "    </tr>\n",
       "    <tr>\n",
       "      <th>2</th>\n",
       "      <td>2005</td>\n",
       "      <td>4787433271400</td>\n",
       "      <td>126764390</td>\n",
       "      <td>37766.0</td>\n",
       "      <td>1.269071</td>\n",
       "      <td>47927</td>\n",
       "    </tr>\n",
       "    <tr>\n",
       "      <th>3</th>\n",
       "      <td>2006</td>\n",
       "      <td>5221810918300</td>\n",
       "      <td>133687900</td>\n",
       "      <td>39060.0</td>\n",
       "      <td>1.236172</td>\n",
       "      <td>48284</td>\n",
       "    </tr>\n",
       "    <tr>\n",
       "      <th>4</th>\n",
       "      <td>2007</td>\n",
       "      <td>5496191147500</td>\n",
       "      <td>135406330</td>\n",
       "      <td>40590.0</td>\n",
       "      <td>1.199326</td>\n",
       "      <td>48680</td>\n",
       "    </tr>\n",
       "  </tbody>\n",
       "</table>\n",
       "</div>"
      ],
      "text/plain": [
       "   year       sum_mean    tot_emp   a_mean  Inflation Rate  \\\n",
       "0  2003  4633416585300  128498410  36058.0        1.303792   \n",
       "1  2004  4763276593600  129170580  36876.0        1.293965   \n",
       "2  2005  4787433271400  126764390  37766.0        1.269071   \n",
       "3  2006  5221810918300  133687900  39060.0        1.236172   \n",
       "4  2007  5496191147500  135406330  40590.0        1.199326   \n",
       "\n",
       "   a_mean_inflation_adjusted  \n",
       "0                      47012  \n",
       "1                      47716  \n",
       "2                      47927  \n",
       "3                      48284  \n",
       "4                      48680  "
      ]
     },
     "execution_count": 21,
     "metadata": {},
     "output_type": "execute_result"
    }
   ],
   "source": [
    "OES_overall[0:5]"
   ]
  },
  {
   "cell_type": "code",
   "execution_count": 22,
   "metadata": {
    "collapsed": false
   },
   "outputs": [
    {
     "data": {
      "text/html": [
       "<div>\n",
       "<table border=\"1\" class=\"dataframe\">\n",
       "  <thead>\n",
       "    <tr style=\"text-align: right;\">\n",
       "      <th></th>\n",
       "      <th>st</th>\n",
       "      <th>year</th>\n",
       "      <th>tot_emp</th>\n",
       "      <th>sum_mean</th>\n",
       "      <th>a_mean</th>\n",
       "      <th>Inflation Rate</th>\n",
       "      <th>a_mean_inflation_adjusted</th>\n",
       "    </tr>\n",
       "  </thead>\n",
       "  <tbody>\n",
       "    <tr>\n",
       "      <th>0</th>\n",
       "      <td>AK</td>\n",
       "      <td>2003</td>\n",
       "      <td>3270</td>\n",
       "      <td>183774000</td>\n",
       "      <td>56200</td>\n",
       "      <td>1.303792</td>\n",
       "      <td>73273</td>\n",
       "    </tr>\n",
       "    <tr>\n",
       "      <th>1</th>\n",
       "      <td>AK</td>\n",
       "      <td>2004</td>\n",
       "      <td>3500</td>\n",
       "      <td>203490000</td>\n",
       "      <td>58140</td>\n",
       "      <td>1.293965</td>\n",
       "      <td>75231</td>\n",
       "    </tr>\n",
       "    <tr>\n",
       "      <th>2</th>\n",
       "      <td>AK</td>\n",
       "      <td>2005</td>\n",
       "      <td>3950</td>\n",
       "      <td>235973000</td>\n",
       "      <td>59740</td>\n",
       "      <td>1.269071</td>\n",
       "      <td>75814</td>\n",
       "    </tr>\n",
       "    <tr>\n",
       "      <th>3</th>\n",
       "      <td>AK</td>\n",
       "      <td>2006</td>\n",
       "      <td>3930</td>\n",
       "      <td>243581400</td>\n",
       "      <td>61980</td>\n",
       "      <td>1.236172</td>\n",
       "      <td>76617</td>\n",
       "    </tr>\n",
       "    <tr>\n",
       "      <th>4</th>\n",
       "      <td>AK</td>\n",
       "      <td>2007</td>\n",
       "      <td>3850</td>\n",
       "      <td>247516500</td>\n",
       "      <td>64290</td>\n",
       "      <td>1.199326</td>\n",
       "      <td>77104</td>\n",
       "    </tr>\n",
       "  </tbody>\n",
       "</table>\n",
       "</div>"
      ],
      "text/plain": [
       "   st  year  tot_emp   sum_mean  a_mean  Inflation Rate  \\\n",
       "0  AK  2003     3270  183774000   56200        1.303792   \n",
       "1  AK  2004     3500  203490000   58140        1.293965   \n",
       "2  AK  2005     3950  235973000   59740        1.269071   \n",
       "3  AK  2006     3930  243581400   61980        1.236172   \n",
       "4  AK  2007     3850  247516500   64290        1.199326   \n",
       "\n",
       "   a_mean_inflation_adjusted  \n",
       "0                      73273  \n",
       "1                      75231  \n",
       "2                      75814  \n",
       "3                      76617  \n",
       "4                      77104  "
      ]
     },
     "execution_count": 22,
     "metadata": {},
     "output_type": "execute_result"
    }
   ],
   "source": [
    "OESDS_complete[0:5]"
   ]
  },
  {
   "cell_type": "markdown",
   "metadata": {},
   "source": [
    "## Save Result"
   ]
  },
  {
   "cell_type": "code",
   "execution_count": 23,
   "metadata": {
    "collapsed": true
   },
   "outputs": [],
   "source": [
    "OESDS_complete.to_csv(\"~/Desktop/WhatDataScience/computer_math2003_2016.csv\",index=False)"
   ]
  },
  {
   "cell_type": "code",
   "execution_count": 24,
   "metadata": {
    "collapsed": true
   },
   "outputs": [],
   "source": [
    "OES_overall_by_state.to_csv(\"~/Desktop/WhatDataScience/all2003_2016.csv\",index=False)"
   ]
  },
  {
   "cell_type": "code",
   "execution_count": null,
   "metadata": {
    "collapsed": true
   },
   "outputs": [],
   "source": []
  }
 ],
 "metadata": {
  "kernelspec": {
   "display_name": "Python 2",
   "language": "python",
   "name": "python2"
  },
  "language_info": {
   "codemirror_mode": {
    "name": "ipython",
    "version": 2
   },
   "file_extension": ".py",
   "mimetype": "text/x-python",
   "name": "python",
   "nbconvert_exporter": "python",
   "pygments_lexer": "ipython2",
   "version": "2.7.9"
  }
 },
 "nbformat": 4,
 "nbformat_minor": 0
}
